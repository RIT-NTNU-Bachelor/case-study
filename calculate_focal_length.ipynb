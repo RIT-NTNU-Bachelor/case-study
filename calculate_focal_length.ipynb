{
 "cells": [
  {
   "cell_type": "markdown",
   "metadata": {},
   "source": [
    "# Case Study: calculating the focal length\n",
    "\n",
    "In this case study, we will estimate the focal length of the camera for the given dataset. The dataset has a user at a known distance from the camera. This focal length value will be used to estimate the distance for the [OpenCV Server](https://github.com/RIT-NTNU-Bachelor/OpenCV_Server). \n",
    "\n",
    "The camera used in this case study is [Anker PowerConf C200 2K Webcam](https://www.amazon.com/dp/B09MFMTMPD/?tag=thewire06-20&linkCode=xm2&ascsubtag=AwEAAAAAAAAAApIG). \n"
   ]
  },
  {
   "cell_type": "markdown",
   "metadata": {},
   "source": [
    "## 1. Import\n",
    "\n",
    "First we import the packages that is required"
   ]
  },
  {
   "cell_type": "code",
   "execution_count": 1,
   "metadata": {
    "execution": {
     "iopub.execute_input": "2024-05-08T10:08:41.234716Z",
     "iopub.status.busy": "2024-05-08T10:08:41.234525Z",
     "iopub.status.idle": "2024-05-08T10:08:41.763994Z",
     "shell.execute_reply": "2024-05-08T10:08:41.763419Z"
    }
   },
   "outputs": [],
   "source": [
    "# Import dependencies\n",
    "import os\n",
    "from cvzone.FaceMeshModule import FaceMeshDetector \n",
    "import matplotlib.pyplot as pyplot"
   ]
  },
  {
   "cell_type": "markdown",
   "metadata": {},
   "source": [
    "## 2. Distance estimation function\n",
    "\n",
    "The equation itself uses focal length of the camera `f`, the estimated distance between the eyes `w`, and the known distance between the eyes `I`. \n",
    "\n",
    "$$ D = \\frac{ I \\times f}{w}$$\n",
    "\n",
    "The depth function is implemented in [OpenCV Server](https://github.com/RIT-NTNU-Bachelor/OpenCV_Server). The difference is that the function here, takes the focal length as parameter. In the OpenCV server, the focal length is a constant. \n",
    "\n",
    "Run the code block below for the function: "
   ]
  },
  {
   "cell_type": "code",
   "execution_count": 2,
   "metadata": {
    "execution": {
     "iopub.execute_input": "2024-05-08T10:08:41.767108Z",
     "iopub.status.busy": "2024-05-08T10:08:41.766655Z",
     "iopub.status.idle": "2024-05-08T10:08:41.779607Z",
     "shell.execute_reply": "2024-05-08T10:08:41.778859Z"
    }
   },
   "outputs": [
    {
     "name": "stderr",
     "output_type": "stream",
     "text": [
      "WARNING: All log messages before absl::InitializeLog() is called are written to STDERR\n",
      "I0000 00:00:1715245869.289967  410259 gl_context_egl.cc:85] Successfully initialized EGL. Major : 1 Minor: 5\n",
      "I0000 00:00:1715245869.293141  410315 gl_context.cc:357] GL version: 3.2 (OpenGL ES 3.2 Mesa 23.2.1-1ubuntu3.1~22.04.2), renderer: RENOIR (renoir, LLVM 15.0.7, DRM 3.54, 6.5.0-28-generic)\n"
     ]
    }
   ],
   "source": [
    "# Average distance between the eyes in cm \n",
    "INTEROCULAR_DISTANCE = 6.3\n",
    "\n",
    "# Face mesh detector configured to detect a maximum of one face\n",
    "CVZONE_DETECTOR_MAX_ONE = FaceMeshDetector(maxFaces=1)\n",
    "\n",
    "# Constants for CVZone face mesh indices for eye locations\n",
    "EYE_DISTANCE_INDEX = {\n",
    "    'left_eye': 145,\n",
    "    'right_eye': 374\n",
    "}\n",
    "\n",
    "# Function for estimating distance \n",
    "def estimate_depth(landmarks: list[list[int]], focal_length):\n",
    "    \"\"\"Estimate the Z-coordinate (depth) for a detected face.\n",
    "\n",
    "    This function calculates the depth, which is the distance between the screen and the user, using a method that relies on the distance between the eyes. \n",
    "    It uses the focal length and the average distance between the eyes, to estimate the depth based on eye landmarks detected. \n",
    "\n",
    "    Parameters:\n",
    "        landmarks (list[list[int]]): A list of arrays, each array representing a landmark with x and y position of that landmark.\n",
    "\n",
    "    Returns:\n",
    "        int: The distance between the user and the camera \n",
    "    \n",
    "    \"\"\"\n",
    "    # Check that the list has the 468 landmarks \n",
    "    if len(landmarks) != 468:\n",
    "        print(f\"ERROR: Invalid length of landmark list expected 468, was {len(landmarks)}\")\n",
    "        return None \n",
    "    \n",
    "    # Retrieve the eye indexes \n",
    "    left_eye = landmarks[EYE_DISTANCE_INDEX['left_eye']]\n",
    "    right_eye = landmarks[EYE_DISTANCE_INDEX['right_eye']]\n",
    "\n",
    "    # Calculate distance between eyes\n",
    "    w, _ = CVZONE_DETECTOR_MAX_ONE.findDistance(left_eye, right_eye)\n",
    "    \n",
    "    # Estimate depth\n",
    "    return int((INTEROCULAR_DISTANCE * focal_length) / w)"
   ]
  },
  {
   "cell_type": "markdown",
   "metadata": {},
   "source": [
    "## 3. Dataset \n",
    "\n",
    "The dataset is created by us to check the distance estimation is correct. \n",
    "The images are labeled by a ground truth measured in inches. \n",
    "\n",
    "The following distances are in out custom dataset: \n",
    "\n",
    "- 20 inches\n",
    "- 30 inches\n",
    "- 40 inches\n",
    "- 50 inches\n",
    "- 60 inches\n",
    "- 70 inches\n",
    "- 80 inches\n",
    "\n",
    "The range is from 20 inches (50.8 cm) to  80 inches (203.2 cm). This range covers the desired testing range as mentioned in the goals for this thesis. \n",
    "\n",
    "Run the code block below to verify that the dataset exists:"
   ]
  },
  {
   "cell_type": "code",
   "execution_count": 3,
   "metadata": {
    "execution": {
     "iopub.execute_input": "2024-05-08T10:08:41.819124Z",
     "iopub.status.busy": "2024-05-08T10:08:41.818575Z",
     "iopub.status.idle": "2024-05-08T10:08:41.822609Z",
     "shell.execute_reply": "2024-05-08T10:08:41.821974Z"
    }
   },
   "outputs": [
    {
     "name": "stderr",
     "output_type": "stream",
     "text": [
      "INFO: Created TensorFlow Lite XNNPACK delegate for CPU.\n"
     ]
    }
   ],
   "source": [
    "# Verify the data set \n",
    "dataset_dir = \"./datasets/distance_dataset/\"\n",
    "\n",
    "# List of expected file names\n",
    "files_to_check = [\n",
    "    \"20inches.jpg\", \"30inches.jpg\", \"40inches.jpg\",\n",
    "    \"50inches.jpg\", \"60inches.jpg\", \"70inches.jpg\",\n",
    "    \"80inches.jpg\"\n",
    "]\n",
    "\n",
    "# Check if each file exists in the directory\n",
    "for filename in files_to_check:\n",
    "    file_path = os.path.join(dataset_dir, filename)\n",
    "    assert os.path.exists(file_path), f\"Was not able to find: {file_path}\""
   ]
  },
  {
   "cell_type": "markdown",
   "metadata": {},
   "source": [
    "All the images has been labeled manually. For each distance, each x and y position of each eye are set. You can expect some reasonable error with this labeling, but the error rate should be relatively low. \n",
    "\n",
    "The labeled information can be found in the file: `./datasets/distance_dataset/eye_positions.txt`.\n",
    "\n",
    "Run the following code block to setup the mock output for the CVZone face detection model. \n",
    "**Note:** The output is mocked due to the avoid that face detection model is also tested. This is not the purpose of **this** case study."
   ]
  },
  {
   "cell_type": "code",
   "execution_count": 4,
   "metadata": {
    "execution": {
     "iopub.execute_input": "2024-05-08T10:08:41.824920Z",
     "iopub.status.busy": "2024-05-08T10:08:41.824722Z",
     "iopub.status.idle": "2024-05-08T10:08:41.831211Z",
     "shell.execute_reply": "2024-05-08T10:08:41.830558Z"
    }
   },
   "outputs": [],
   "source": [
    "# Define the dictionary for eye distance index\n",
    "EYE_DISTANCE_INDEX = {\n",
    "    'left_eye': 145,\n",
    "    'right_eye': 374\n",
    "}\n",
    "\n",
    "# Define the positions for each image\n",
    "eye_positions = {\n",
    "    20: {\"left\": [1180, 525], \"right\": [1340, 525]},\n",
    "    30: {\"left\": [1198, 625], \"right\": [1320, 625]},\n",
    "    40: {\"left\": [1183, 670], \"right\": [1270, 670]},\n",
    "    50: {\"left\": [1298, 703], \"right\": [1369, 703]},\n",
    "    60: {\"left\": [1295, 751], \"right\": [1359, 751]},\n",
    "    70: {\"left\": [1354, 773], \"right\": [1403, 773]},\n",
    "    80: {\"left\": [1322, 754], \"right\": [1366, 754]}\n",
    "}\n",
    "\n",
    "# Create the map of landmarks\n",
    "# The key is how many inches the user is away from the camera\n",
    "# The value is the mocked output from CVZone\n",
    "landmark_map = {}\n",
    "\n",
    "# Setting up the map based on the positions \n",
    "for inch, pos in eye_positions.items():\n",
    "    # Create a list of 468 elements initialized with None\n",
    "    landmarks = [[0, 0] for _ in range(468)]\n",
    "    \n",
    "    # Set the left and right eye positions\n",
    "    landmarks[EYE_DISTANCE_INDEX['left_eye']] = pos['left']\n",
    "    landmarks[EYE_DISTANCE_INDEX['right_eye']] = pos['right']\n",
    "    \n",
    "    # Store in the map\n",
    "    landmark_map[inch] = landmarks\n",
    " "
   ]
  },
  {
   "cell_type": "markdown",
   "metadata": {},
   "source": [
    "## 4. Calculate the focal length\n",
    "\n",
    "Focal length can be calculated with the following equation: \n",
    "\n",
    "$$ \\frac{1}{F} = \\frac{1}{O} + \\frac{1}{L} $$\n",
    "\n",
    "Where: \n",
    "- F: Focal length of the camera\n",
    "- O: distance between the lens and the object\n",
    "- L: distance between the lens and the image \n",
    "\n",
    "(**Source:** see [resources](#resources))\n",
    "\n",
    "\n",
    "The following function calculated the focal length based on this equation: "
   ]
  },
  {
   "cell_type": "code",
   "execution_count": 5,
   "metadata": {
    "execution": {
     "iopub.execute_input": "2024-05-08T10:08:41.833902Z",
     "iopub.status.busy": "2024-05-08T10:08:41.833426Z",
     "iopub.status.idle": "2024-05-08T10:08:41.836527Z",
     "shell.execute_reply": "2024-05-08T10:08:41.835961Z"
    }
   },
   "outputs": [],
   "source": [
    "# Function for the calculation for the focal length \n",
    "def calculate_focal_length(object_distance, image_distance):\n",
    "    return 1 / ((1 / image_distance) + (1 / object_distance)) "
   ]
  },
  {
   "cell_type": "markdown",
   "metadata": {},
   "source": [
    "## 5. Estimating the focal length \n",
    "\n",
    "To find the focal length, we are going to be using polynomial regression. This is when you have a set data points that are nonlinear, and you try to estimate a curve to that fits the best for all data points. We have our mocked data from the faces, and from that we have the distances for each given the focal length. \n",
    "\n",
    "To do polynomial regression we are going to be calculating the error rate for each distance estimation, and then use that error rate to change the focal length. The goal is to minimize the error rate (which is the difference between the distance and the ground truth distance). Then we are going to iterate over all datasets until we hit a max amount of iterations or that the average error rate is lower than a set tolerance. \n",
    "\n",
    "The following function is to make cm into inches: \n"
   ]
  },
  {
   "cell_type": "code",
   "execution_count": 6,
   "metadata": {
    "execution": {
     "iopub.execute_input": "2024-05-08T10:08:41.838959Z",
     "iopub.status.busy": "2024-05-08T10:08:41.838581Z",
     "iopub.status.idle": "2024-05-08T10:08:41.841531Z",
     "shell.execute_reply": "2024-05-08T10:08:41.840992Z"
    }
   },
   "outputs": [],
   "source": [
    "# Inches to cm converter function\n",
    "def to_cm(inches):\n",
    "    return inches * 2.54"
   ]
  },
  {
   "cell_type": "markdown",
   "metadata": {},
   "source": [
    "The `adjust_focal_length` function adjust the estimated focal length based on the error rate. It calculates the error as the difference between the actual distance and the detected distance. An adjustment is then made to the current focal length, scaled by a default learning rate. This adjustment is added to the current focal length to produce a new focal length, which is returned for use in new estimations. \n",
    "\n",
    "This process helps iteratively reduce the error rate. Run the codeblock below to save the function for the adjustment: "
   ]
  },
  {
   "cell_type": "code",
   "execution_count": 7,
   "metadata": {
    "execution": {
     "iopub.execute_input": "2024-05-08T10:08:41.843885Z",
     "iopub.status.busy": "2024-05-08T10:08:41.843686Z",
     "iopub.status.idle": "2024-05-08T10:08:41.846900Z",
     "shell.execute_reply": "2024-05-08T10:08:41.846296Z"
    }
   },
   "outputs": [],
   "source": [
    "def adjust_focal_length(detected_distance, actual_distance, current_focal_length, learning_rate):\n",
    "    error = actual_distance - detected_distance\n",
    "    adjustment = learning_rate * error  # Calculate the adjustment directly proportional to the error\n",
    "    new_focal_length = current_focal_length + adjustment  # Update the focal length by adding the adjustment\n",
    "    return new_focal_length"
   ]
  },
  {
   "cell_type": "markdown",
   "metadata": {},
   "source": [
    "In our focal length estimation process, we initiate with an estimated value for the focal length. \n",
    "Then we start fitting the curve by utilize various constants to make the adjustments:\n",
    "\n",
    "- **Errors:** An empty list initialized to collect the average error rates observed over each iteration. Will be used to plot a graph\n",
    "- **Tolerance:** Defined in cm. The goal is to make the error rate be less than this tolerance. \n",
    "- **Learning Rate:** The learning rate is used to control at what rate the regression should happen. Higher learning rate leads to less iterations, but the error rate in the end will be high. To make the error rate low, the learning rate also has to be low, but this requires more iterations. \n",
    "- **Max Iterations:** A max limit for the amount of iterations \n",
    "- **Average Error:** The average error rate of the process \n",
    "- **Iterations:** Counts how many iteration has been done "
   ]
  },
  {
   "cell_type": "code",
   "execution_count": 8,
   "metadata": {
    "execution": {
     "iopub.execute_input": "2024-05-08T10:08:41.849240Z",
     "iopub.status.busy": "2024-05-08T10:08:41.849048Z",
     "iopub.status.idle": "2024-05-08T10:08:41.852468Z",
     "shell.execute_reply": "2024-05-08T10:08:41.851831Z"
    }
   },
   "outputs": [],
   "source": [
    "# Initial focal length to a guess \n",
    "focal_length = 650  \n",
    "\n",
    "# Collecting the error rate over time: \n",
    "errors = []\n",
    "\n",
    "# Tolerance for the average error in cm\n",
    "tolerance = 1.0 \n",
    "\n",
    "# Set the learning rate and max amount of iterations \n",
    "learning_rate = 0.005 \n",
    "max_iterations = 2000  \n",
    "\n",
    "# Set the error rate to a high number \n",
    "average_error = float('inf')  \n",
    "\n",
    "# Count how many iterations \n",
    "iterations = 0"
   ]
  },
  {
   "cell_type": "markdown",
   "metadata": {},
   "source": [
    "The next code block will start to adjust the focal length:"
   ]
  },
  {
   "cell_type": "code",
   "execution_count": 9,
   "metadata": {
    "execution": {
     "iopub.execute_input": "2024-05-08T10:08:41.855028Z",
     "iopub.status.busy": "2024-05-08T10:08:41.854574Z",
     "iopub.status.idle": "2024-05-08T10:08:41.900995Z",
     "shell.execute_reply": "2024-05-08T10:08:41.900325Z"
    }
   },
   "outputs": [],
   "source": [
    "while average_error > tolerance and iterations < max_iterations:\n",
    "    # Keep track of all the track all errors for all the files \n",
    "    total_error = 0 \n",
    "\n",
    "    # Increment the iterations \n",
    "    iterations += 1 \n",
    "\n",
    "    # Iterating over each file\n",
    "    for filename in files_to_check:\n",
    "        # Getting the ground truth from the file \n",
    "        ground_truth_inches = int(filename.replace('inches.jpg', ''))\n",
    "        ground_truth_cm = to_cm(ground_truth_inches)\n",
    "\n",
    "        # Using the map to mock the ground truth of the output \n",
    "        face = landmark_map[ground_truth_inches]\n",
    "\n",
    "        estimated_depth_cm = estimate_depth(face, focal_length)\n",
    "        error = abs(estimated_depth_cm - ground_truth_cm)\n",
    "        total_error += error\n",
    "\n",
    "        # Adjust the focal length for each image based on the current error\n",
    "        focal_length = adjust_focal_length(estimated_depth_cm, ground_truth_cm, focal_length, learning_rate)\n",
    "\n",
    "    if iterations > 0:\n",
    "        average_error = total_error / len(files_to_check)\n",
    "        errors.append(average_error)\n",
    "    else:\n",
    "        print(\"No valid images processed. Stopping the iterations.\")\n",
    "        break\n"
   ]
  },
  {
   "cell_type": "markdown",
   "metadata": {},
   "source": [
    "After either the average error is lower then the tolerance, or that number of iterations is higher than the max limit. <br>\n",
    "This final print statement will round the focal length and the end error rate to the closest two decimals:"
   ]
  },
  {
   "cell_type": "code",
   "execution_count": 10,
   "metadata": {
    "execution": {
     "iopub.execute_input": "2024-05-08T10:08:41.903766Z",
     "iopub.status.busy": "2024-05-08T10:08:41.903565Z",
     "iopub.status.idle": "2024-05-08T10:08:41.906923Z",
     "shell.execute_reply": "2024-05-08T10:08:41.906266Z"
    }
   },
   "outputs": [
    {
     "name": "stdout",
     "output_type": "stream",
     "text": [
      "[FINAL] Adjusted Focal Length: 1432.4 after 2000 iterations with average error = 4.17 cm\n"
     ]
    }
   ],
   "source": [
    "# Printing the final Focal length \n",
    "print(f\"[FINAL] Adjusted Focal Length: {round(focal_length,2)} after {iterations} iterations with average error = {round(average_error,2)} cm\")"
   ]
  },
  {
   "cell_type": "markdown",
   "metadata": {},
   "source": [
    "Also, we can plot the error rate over time, with `pyplot`: "
   ]
  },
  {
   "cell_type": "code",
   "execution_count": 11,
   "metadata": {
    "execution": {
     "iopub.execute_input": "2024-05-08T10:08:41.909270Z",
     "iopub.status.busy": "2024-05-08T10:08:41.909073Z",
     "iopub.status.idle": "2024-05-08T10:08:42.095241Z",
     "shell.execute_reply": "2024-05-08T10:08:42.094548Z"
    }
   },
   "outputs": [
    {
     "data": {
      "image/png": "[encoded data removed]",
      "text/plain": [
       "<Figure size 1000x600 with 1 Axes>"
      ]
     },
     "metadata": {},
     "output_type": "display_data"
    }
   ],
   "source": [
    "# Plotting the original and smoothed data\n",
    "pyplot.figure(figsize=(10, 6))\n",
    "pyplot.plot(errors) \n",
    "pyplot.title(\"Average Error Rate (cm) over multiple Iterations\")\n",
    "pyplot.xlabel(\"Iterations\")\n",
    "pyplot.ylabel(\"Average Error Rate (cm)\")\n",
    "pyplot.grid(True)\n",
    "pyplot.show()"
   ]
  },
  {
   "cell_type": "markdown",
   "metadata": {},
   "source": [
    "### Resources: \n",
    "\n",
    "Equation for calculating the focal length: <br>\n",
    "https://www.geeksforgeeks.org/program-focal-length-lens/ \n",
    "\n",
    "\n",
    "Check out the GitHub repository here: [GitHub Repository](https://github.com/RIT-NTNU-Bachelor/case-study)\n",
    "\n",
    "**Created by:** Kjetil Indrehus, Sander Hauge and Martin Johannessen"
   ]
  }
 ],
 "metadata": {
  "kernelspec": {
   "display_name": ".venv",
   "language": "python",
   "name": "python3"
  },
  "language_info": {
   "codemirror_mode": {
    "name": "ipython",
    "version": 3
   },
   "file_extension": ".py",
   "mimetype": "text/x-python",
   "name": "python",
   "nbconvert_exporter": "python",
   "pygments_lexer": "ipython3",
   "version": "3.10.12"
  }
 },
 "nbformat": 4,
 "nbformat_minor": 2
}
