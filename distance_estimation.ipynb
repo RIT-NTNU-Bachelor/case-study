{
 "cells": [
  {
   "cell_type": "markdown",
   "metadata": {},
   "source": [
    "# Case Study: distance estimation \n",
    "\n",
    "In this case study, we will estimate the ........."
   ]
  },
  {
   "cell_type": "markdown",
   "metadata": {},
   "source": [
    "## 1. Import code "
   ]
  },
  {
   "cell_type": "code",
   "execution_count": 25,
   "metadata": {},
   "outputs": [],
   "source": [
    "# Import dependencies\n",
    "import os\n",
    "from cvzone.FaceMeshModule import FaceMeshDetector \n",
    "import matplotlib.pyplot as pyplot"
   ]
  },
  {
   "cell_type": "markdown",
   "metadata": {},
   "source": [
    "## 2. Distance estimation function"
   ]
  },
  {
   "cell_type": "code",
   "execution_count": 15,
   "metadata": {},
   "outputs": [
    {
     "name": "stderr",
     "output_type": "stream",
     "text": [
      "I0000 00:00:1714639771.170226    5141 gl_context_egl.cc:85] Successfully initialized EGL. Major : 1 Minor: 5\n",
      "I0000 00:00:1714639771.171866    9167 gl_context.cc:357] GL version: 3.2 (OpenGL ES 3.2 Mesa 23.2.1-1ubuntu3.1~22.04.2), renderer: RENOIR (renoir, LLVM 15.0.7, DRM 3.54, 6.5.0-28-generic)\n"
     ]
    }
   ],
   "source": [
    "# Average distance between the eyes in cm \n",
    "INTEROCULAR_DISTANCE = 6.3\n",
    "\n",
    "# Focal length of the camera in use (in some unit)\n",
    "focal_length = 655\n",
    "\n",
    "# Face mesh detector configured to detect a maximum of one face\n",
    "CVZONE_DETECTOR_MAX_ONE = FaceMeshDetector(maxFaces=1)\n",
    "\n",
    "# Constants for CVZone face mesh indices for eye locations\n",
    "EYE_DISTANCE_INDEX = {\n",
    "    'left_eye': 145,\n",
    "    'right_eye': 374\n",
    "}\n",
    "\n",
    "# Function for estimating distance \n",
    "def estimate_depth(landmarks: list[list[int]], focal_length):\n",
    "    \"\"\"Estimate the Z-coordinate (depth) for a detected face.\n",
    "\n",
    "    This function calculates the depth, which is the distance between the screen and the user, using a method that relies on the distance between the eyes. \n",
    "    It uses the focal length and the average distance between the eyes, to estimate the depth based on eye landmarks detected. \n",
    "\n",
    "    Parameters:\n",
    "        landmarks (list[list[int]]): A list of arrays, each array representing a landmark with x and y position of that landmark.\n",
    "\n",
    "    Returns:\n",
    "        int: The distance between the user and the camera \n",
    "    \n",
    "    \"\"\"\n",
    "    # Check that the list has the 468 landmarks \n",
    "    if len(landmarks) != 468:\n",
    "        print(\"ERROR: Invalid length of landmark list expected 468, was {len(landmarks)}\")\n",
    "        return None \n",
    "    \n",
    "    # Retrieve the eye indexes \n",
    "    left_eye = landmarks[EYE_DISTANCE_INDEX['left_eye']]\n",
    "    right_eye = landmarks[EYE_DISTANCE_INDEX['right_eye']]\n",
    "\n",
    "    # Calculate distance between eyes\n",
    "    w, _ = CVZONE_DETECTOR_MAX_ONE.findDistance(left_eye, right_eye)\n",
    "    \n",
    "    # Estimate depth\n",
    "    return int((INTEROCULAR_DISTANCE * focal_length) / w)"
   ]
  },
  {
   "cell_type": "markdown",
   "metadata": {},
   "source": [
    "## 3. Dataset \n",
    "\n",
    "The dataset is created by us to check the distance estimation is correct. \n",
    "The images are labeled by a ground truth measured in inches. \n",
    "\n",
    "The following distances are in out custom dataset: \n",
    "\n",
    "- 20 inches\n",
    "- 30 inches\n",
    "- 40 inches\n",
    "- 50 inches\n",
    "- 60 inches\n",
    "- 70 inches\n",
    "- 80 inches\n",
    "\n",
    "The range is from 20 inches (50.8 cm) to  80 inches (203.2 cm). This range covers the desired testing range as mentioned in the goals for this thesis. \n",
    "\n",
    "Run the code block below to verify that the dataset exists:"
   ]
  },
  {
   "cell_type": "code",
   "execution_count": 16,
   "metadata": {},
   "outputs": [],
   "source": [
    "# Verify the data set \n",
    "dataset_dir = \"./datasets/distance_dataset/\"\n",
    "\n",
    "# List of expected file names\n",
    "files_to_check = [\n",
    "    \"20inches.jpg\", \"30inches.jpg\", \"40inches.jpg\",\n",
    "    \"50inches.jpg\", \"60inches.jpg\", \"70inches.jpg\",\n",
    "    \"80inches.jpg\"\n",
    "]\n",
    "\n",
    "# Check if each file exists in the directory\n",
    "for filename in files_to_check:\n",
    "    file_path = os.path.join(dataset_dir, filename)\n",
    "    assert os.path.exists(file_path), f\"Was not able to find: {file_path}\""
   ]
  },
  {
   "cell_type": "markdown",
   "metadata": {},
   "source": [
    "All the images has been labeled manually. For each distance, each x and y position of each eye are set. You can expect some reasonable error with this labeling, but the error rate should be relatively low. \n",
    "\n",
    "The labeled information can be found in the file: `./datasets/distance_dataset/eye_positions.txt`.\n",
    "\n",
    "Run the following code block to setup the mock output for the CVZone face detection model. \n",
    "**Note:** The output is mocked due to the avoid that face detection model is also tested. This is not the purpose of **this** case study."
   ]
  },
  {
   "cell_type": "code",
   "execution_count": 17,
   "metadata": {},
   "outputs": [],
   "source": [
    "# Define the dictionary for eye distance index\n",
    "EYE_DISTANCE_INDEX = {\n",
    "    'left_eye': 145,\n",
    "    'right_eye': 374\n",
    "}\n",
    "\n",
    "# Define the positions for each image\n",
    "eye_positions = {\n",
    "    20: {\"left\": [1180, 525], \"right\": [1340, 525]},\n",
    "    30: {\"left\": [1198, 625], \"right\": [1320, 625]},\n",
    "    40: {\"left\": [1183, 670], \"right\": [1270, 670]},\n",
    "    50: {\"left\": [1298, 703], \"right\": [1369, 703]},\n",
    "    60: {\"left\": [1295, 751], \"right\": [1359, 751]},\n",
    "    70: {\"left\": [1354, 773], \"right\": [1403, 773]},\n",
    "    80: {\"left\": [1322, 754], \"right\": [1366, 754]}\n",
    "}\n",
    "\n",
    "# Create the map of landmarks\n",
    "# The key is how many inches the user is away from the camera\n",
    "# The value is the mocked output from CVZone\n",
    "landmark_map = {}\n",
    "\n",
    "# Setting up the map based on the positions \n",
    "for inch, pos in eye_positions.items():\n",
    "    # Create a list of 468 elements initialized with None\n",
    "    landmarks = [[0, 0] for _ in range(468)]\n",
    "    \n",
    "    # Set the left and right eye positions\n",
    "    landmarks[EYE_DISTANCE_INDEX['left_eye']] = pos['left']\n",
    "    landmarks[EYE_DISTANCE_INDEX['right_eye']] = pos['right']\n",
    "    \n",
    "    # Store in the map\n",
    "    landmark_map[inch] = landmarks\n",
    " "
   ]
  },
  {
   "cell_type": "markdown",
   "metadata": {},
   "source": [
    "## 4. Calculate the focal length\n",
    "\n",
    "Focal length can be calculated with the following equation: \n",
    "\n",
    "$$ \\frac{1}{F} = \\frac{1}{O} + \\frac{1}{L} $$\n",
    "\n",
    "Where: \n",
    "- F: Focal length of the camera\n",
    "- O: distance between the lens and the object\n",
    "- L: distance between the lens and the image \n",
    "\n",
    "\n",
    "The following function calculated the focal length based on this equation: "
   ]
  },
  {
   "cell_type": "code",
   "execution_count": 18,
   "metadata": {},
   "outputs": [],
   "source": [
    "# Function for the calculation for the focal length \n",
    "def calculate_focal_length(object_distance, image_distance):\n",
    "    return 1 / ((1 / image_distance) + (1 / object_distance)) \n"
   ]
  },
  {
   "cell_type": "markdown",
   "metadata": {},
   "source": [
    "## 5. Estimating the focal length \n",
    "\n",
    "To find the focal length, we are going to be using polynomial regression. This is when you have a set data points that are nonlinear, and you try to estimate a curve to that fits the best for all data points. We have our mocked data from the faces, and from that we have the distances for each given the focal length. \n",
    "\n",
    "To do polynomial regression we are going to be calculating the error rate for each distance estimation, and then use that error rate to change the focal length. The goal is to minimize the error rate (which is the difference between the distance and the ground truth distance). Then we are going to iterate over all datasets until we hit a max amount of iterations or that the average error rate is lower than a set tolerance. \n",
    "\n",
    "The following function is to make cm into inches: \n"
   ]
  },
  {
   "cell_type": "code",
   "execution_count": 19,
   "metadata": {},
   "outputs": [],
   "source": [
    "# Inches to cm converter function\n",
    "def to_cm(inches):\n",
    "    return inches * 2.54"
   ]
  },
  {
   "cell_type": "markdown",
   "metadata": {},
   "source": [
    "The `adjust_focal_length` function adjust the estimated focal length based on the error rate. It calculates the error as the difference between the actual distance and the detected distance. An adjustment is then made to the current focal length, scaled by a default learning rate. This adjustment is added to the current focal length to produce a new focal length, which is returned for use in new estimations. \n",
    "\n",
    "This process helps iteratively reduce the error rate. Run the codeblock below to save the function for the adjustment: "
   ]
  },
  {
   "cell_type": "code",
   "execution_count": 20,
   "metadata": {},
   "outputs": [],
   "source": [
    "def adjust_focal_length(detected_distance, actual_distance, current_focal_length, learning_rate):\n",
    "    error = actual_distance - detected_distance\n",
    "    adjustment = learning_rate * error  # Calculate the adjustment directly proportional to the error\n",
    "    new_focal_length = current_focal_length + adjustment  # Update the focal length by adding the adjustment\n",
    "    return new_focal_length"
   ]
  },
  {
   "cell_type": "markdown",
   "metadata": {},
   "source": [
    "In our focal length estimation process, we initiate with an estimated value for the focal length. \n",
    "Then we start fitting the curve by utilize various constants to make the adjustments:\n",
    "\n",
    "- **Errors:** An empty list initialized to collect the average error rates observed over each iteration. Will be used to plot a graph\n",
    "- **Tolerance:** Defined in cm. The goal is to make the error rate be less than this tolerance. \n",
    "- **Learning Rate:** The learning rate is used to control at what rate the regression should happen. Higher learning rate leads to less iterations, but the error rate in the end will be high. To make the error rate low, the learning rate also has to be low, but this requires more iterations. \n",
    "- **Max Iterations:** A max limit for the amount of iterations \n",
    "- **Average Error:** The average error rate of the process \n",
    "- **Iterations:** Counts how many iteration has been done "
   ]
  },
  {
   "cell_type": "code",
   "execution_count": 21,
   "metadata": {},
   "outputs": [],
   "source": [
    "# Initial focal length to a guess \n",
    "focal_length = 650  \n",
    "\n",
    "# Collecting the error rate over time: \n",
    "errors = []\n",
    "\n",
    "# Tolerance for the average error in cm\n",
    "tolerance = 2.0  \n",
    "\n",
    "# Set the learning rate and max amount of iterations \n",
    "learning_rate = 0.04  \n",
    "max_iterations = 200  \n",
    "\n",
    "# Set the error rate to a high number \n",
    "average_error = float('inf')  \n",
    "\n",
    "# Count how many iterations \n",
    "iterations = 0"
   ]
  },
  {
   "cell_type": "markdown",
   "metadata": {},
   "source": [
    "The next code block will start to adjust the focal length:"
   ]
  },
  {
   "cell_type": "code",
   "execution_count": 22,
   "metadata": {},
   "outputs": [
    {
     "name": "stdout",
     "output_type": "stream",
     "text": [
      "[INFO] Iteration 1: Average Error Rate = 482.0 cm, Focal Length = 669.2799999999999\n",
      "[INFO] Iteration 2: Average Error Rate = 236.0 cm, Focal Length = 688.1599999999999\n",
      "[INFO] Iteration 3: Average Error Rate = 153.0 cm, Focal Length = 706.5199999999999\n",
      "[INFO] Iteration 4: Average Error Rate = 111.75 cm, Focal Length = 724.3999999999999\n",
      "[INFO] Iteration 5: Average Error Rate = 87.6 cm, Focal Length = 741.9199999999998\n",
      "[INFO] Iteration 6: Average Error Rate = 71.0 cm, Focal Length = 758.9599999999999\n",
      "[INFO] Iteration 7: Average Error Rate = 59.42857142857143 cm, Focal Length = 775.5999999999999\n",
      "[INFO] Iteration 8: Average Error Rate = 50.75 cm, Focal Length = 791.8399999999999\n",
      "[INFO] Iteration 9: Average Error Rate = 43.888888888888886 cm, Focal Length = 807.6399999999999\n",
      "[INFO] Iteration 10: Average Error Rate = 38.5 cm, Focal Length = 823.04\n",
      "[INFO] Iteration 11: Average Error Rate = 34.27272727272727 cm, Focal Length = 838.1199999999999\n",
      "[INFO] Iteration 12: Average Error Rate = 30.583333333333332 cm, Focal Length = 852.7999999999998\n",
      "[INFO] Iteration 13: Average Error Rate = 27.615384615384617 cm, Focal Length = 867.1599999999999\n",
      "[INFO] Iteration 14: Average Error Rate = 25.0 cm, Focal Length = 881.1599999999999\n",
      "[INFO] Iteration 15: Average Error Rate = 22.733333333333334 cm, Focal Length = 894.8\n",
      "[INFO] Iteration 16: Average Error Rate = 20.75 cm, Focal Length = 908.0799999999998\n",
      "[INFO] Iteration 17: Average Error Rate = 19.176470588235293 cm, Focal Length = 921.1199999999998\n",
      "[INFO] Iteration 18: Average Error Rate = 17.5 cm, Focal Length = 933.7199999999997\n",
      "[INFO] Iteration 19: Average Error Rate = 16.210526315789473 cm, Focal Length = 946.0399999999997\n",
      "[INFO] Iteration 20: Average Error Rate = 15.05 cm, Focal Length = 958.0799999999998\n",
      "[INFO] Iteration 21: Average Error Rate = 13.952380952380953 cm, Focal Length = 969.7999999999997\n",
      "[INFO] Iteration 22: Average Error Rate = 12.954545454545455 cm, Focal Length = 981.1999999999997\n",
      "[INFO] Iteration 23: Average Error Rate = 12.08695652173913 cm, Focal Length = 992.3199999999997\n",
      "[INFO] Iteration 24: Average Error Rate = 11.291666666666666 cm, Focal Length = 1003.1599999999997\n",
      "[INFO] Iteration 25: Average Error Rate = 10.64 cm, Focal Length = 1013.7999999999997\n",
      "[INFO] Iteration 26: Average Error Rate = 9.923076923076923 cm, Focal Length = 1024.1199999999997\n",
      "[INFO] Iteration 27: Average Error Rate = 9.333333333333334 cm, Focal Length = 1034.2\n",
      "[INFO] Iteration 28: Average Error Rate = 8.821428571428571 cm, Focal Length = 1044.0800000000002\n",
      "[INFO] Iteration 29: Average Error Rate = 8.310344827586206 cm, Focal Length = 1053.7200000000005\n",
      "[INFO] Iteration 30: Average Error Rate = 7.8 cm, Focal Length = 1063.0800000000002\n",
      "[INFO] Iteration 31: Average Error Rate = 7.387096774193548 cm, Focal Length = 1072.24\n",
      "[INFO] Iteration 32: Average Error Rate = 6.96875 cm, Focal Length = 1081.16\n",
      "[INFO] Iteration 33: Average Error Rate = 6.606060606060606 cm, Focal Length = 1089.88\n",
      "[INFO] Iteration 34: Average Error Rate = 6.235294117647059 cm, Focal Length = 1098.3600000000001\n",
      "[INFO] Iteration 35: Average Error Rate = 5.914285714285715 cm, Focal Length = 1106.64\n",
      "[INFO] Iteration 36: Average Error Rate = 5.583333333333333 cm, Focal Length = 1114.6800000000003\n",
      "[INFO] Iteration 37: Average Error Rate = 5.324324324324325 cm, Focal Length = 1122.5600000000002\n",
      "[INFO] Iteration 38: Average Error Rate = 5.078947368421052 cm, Focal Length = 1130.2800000000002\n",
      "[INFO] Iteration 39: Average Error Rate = 4.82051282051282 cm, Focal Length = 1137.8\n",
      "[INFO] Iteration 40: Average Error Rate = 4.575 cm, Focal Length = 1145.12\n",
      "[INFO] Iteration 41: Average Error Rate = 4.365853658536586 cm, Focal Length = 1152.28\n",
      "[INFO] Iteration 42: Average Error Rate = 4.142857142857143 cm, Focal Length = 1159.24\n",
      "[INFO] Iteration 43: Average Error Rate = 3.9302325581395348 cm, Focal Length = 1166.0000000000002\n",
      "[INFO] Iteration 44: Average Error Rate = 3.75 cm, Focal Length = 1172.6000000000004\n",
      "[INFO] Iteration 45: Average Error Rate = 3.577777777777778 cm, Focal Length = 1179.0400000000002\n",
      "[INFO] Iteration 46: Average Error Rate = 3.4130434782608696 cm, Focal Length = 1185.32\n",
      "[INFO] Iteration 47: Average Error Rate = 3.276595744680851 cm, Focal Length = 1191.4799999999998\n",
      "[INFO] Iteration 48: Average Error Rate = 3.125 cm, Focal Length = 1197.4799999999998\n",
      "[INFO] Iteration 49: Average Error Rate = 2.9591836734693877 cm, Focal Length = 1203.2799999999997\n",
      "[INFO] Iteration 50: Average Error Rate = 2.84 cm, Focal Length = 1208.9599999999998\n",
      "[INFO] Iteration 51: Average Error Rate = 2.7254901960784315 cm, Focal Length = 1214.52\n",
      "[INFO] Iteration 52: Average Error Rate = 2.6153846153846154 cm, Focal Length = 1219.96\n",
      "[INFO] Iteration 53: Average Error Rate = 2.452830188679245 cm, Focal Length = 1225.1600000000003\n",
      "[INFO] Iteration 54: Average Error Rate = 2.388888888888889 cm, Focal Length = 1230.3200000000006\n",
      "[INFO] Iteration 55: Average Error Rate = 2.272727272727273 cm, Focal Length = 1235.3200000000006\n",
      "[INFO] Iteration 56: Average Error Rate = 2.1964285714285716 cm, Focal Length = 1240.2400000000007\n",
      "[INFO] Iteration 57: Average Error Rate = 2.087719298245614 cm, Focal Length = 1245.0000000000007\n",
      "[INFO] Iteration 58: Average Error Rate = 2.0 cm, Focal Length = 1249.6400000000006\n"
     ]
    }
   ],
   "source": [
    "while average_error > tolerance and iterations < max_iterations:\n",
    "    total_error = 0  # Sum of errors for this iteration\n",
    "    iterations += 1\n",
    "\n",
    "    # Iterating over each file\n",
    "\n",
    "    for filename in files_to_check:\n",
    "        # Getting the ground truth from the file \n",
    "        ground_truth_inches = int(filename.replace('inches.jpg', ''))\n",
    "        ground_truth_cm = to_cm(ground_truth_inches)\n",
    "\n",
    "        # Using the map to mock the ground truth of the output \n",
    "        face = landmark_map[ground_truth_inches]\n",
    "\n",
    "        estimated_depth_cm = estimate_depth(face, focal_length)\n",
    "        error = abs(estimated_depth_cm - ground_truth_cm)\n",
    "        total_error += error\n",
    "\n",
    "        # Adjust the focal length for each image based on the current error\n",
    "        focal_length = adjust_focal_length(estimated_depth_cm, ground_truth_cm, focal_length, learning_rate)\n",
    "\n",
    "    if iterations > 0:\n",
    "        average_error = total_error / iterations\n",
    "        errors.append(average_error)\n",
    "        print(f\"[INFO] Iteration {iterations}: Average Error Rate = {average_error} cm, Focal Length = {focal_length}\")\n",
    "    else:\n",
    "        print(\"No valid images processed. Stopping the iterations.\")\n",
    "        break\n"
   ]
  },
  {
   "cell_type": "markdown",
   "metadata": {},
   "source": [
    "After either the average error is lower then the tolerance, or that number of iterations is higher than the max limit. <br>\n",
    "This final print statement will round the focal length and the end error rate to the closest two decimals:"
   ]
  },
  {
   "cell_type": "code",
   "execution_count": 23,
   "metadata": {},
   "outputs": [
    {
     "name": "stdout",
     "output_type": "stream",
     "text": [
      "[FINAL] Adjusted Focal Length: 1249.64 after 58 iterations with average error = 2.0 cm\n"
     ]
    }
   ],
   "source": [
    "# Printing the final Focal length \n",
    "print(f\"[FINAL] Adjusted Focal Length: {round(focal_length,2)} after {iterations} iterations with average error = {round(average_error,2)} cm\")"
   ]
  },
  {
   "cell_type": "markdown",
   "metadata": {},
   "source": [
    "Also, we can plot the error rate over time, with `pyplot`: "
   ]
  },
  {
   "cell_type": "code",
   "execution_count": 24,
   "metadata": {},
   "outputs": [
    {
     "data": {
      "image/png": "[encoded data removed]",
      "text/plain": [
       "<Figure size 1000x600 with 1 Axes>"
      ]
     },
     "metadata": {},
     "output_type": "display_data"
    }
   ],
   "source": [
    "# Plotting the original and smoothed data\n",
    "pyplot.figure(figsize=(10, 6))\n",
    "pyplot.plot(errors) \n",
    "pyplot.title(\"Average Error Rate (cm) over multiple Iterations\")\n",
    "pyplot.xlabel(\"Iterations\")\n",
    "pyplot.ylabel(\"Average Error Rate (cm)\")\n",
    "pyplot.grid(True)\n",
    "pyplot.show()"
   ]
  },
  {
   "cell_type": "code",
   "execution_count": null,
   "metadata": {},
   "outputs": [],
   "source": []
  }
 ],
 "metadata": {
  "kernelspec": {
   "display_name": ".venv",
   "language": "python",
   "name": "python3"
  },
  "language_info": {
   "codemirror_mode": {
    "name": "ipython",
    "version": 3
   },
   "file_extension": ".py",
   "mimetype": "text/x-python",
   "name": "python",
   "nbconvert_exporter": "python",
   "pygments_lexer": "ipython3",
   "version": "3.10.12"
  }
 },
 "nbformat": 4,
 "nbformat_minor": 2
}
